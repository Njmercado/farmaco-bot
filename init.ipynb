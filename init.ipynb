{
 "cells": [
  {
   "cell_type": "code",
   "execution_count": 1,
   "metadata": {},
   "outputs": [],
   "source": [
    "from openai import OpenAI\n",
    "from typing_extensions import override\n",
    "from openai import AssistantEventHandler\n",
    "import json\n",
    "\n",
    "client = OpenAI()"
   ]
  },
  {
   "cell_type": "code",
   "execution_count": 2,
   "metadata": {},
   "outputs": [],
   "source": [
    "def get_medicine_availability(params):\n",
    "  name = params.get('name')\n",
    "  return f'Hay las que quieras. {name}'"
   ]
  },
  {
   "cell_type": "code",
   "execution_count": 3,
   "metadata": {},
   "outputs": [],
   "source": [
    "def actions(action_name, params):\n",
    "  if action_name == 'get_medicine_availability':\n",
    "    return get_medicine_availability(params)\n",
    "  return 'No se que hacer'"
   ]
  },
  {
   "cell_type": "code",
   "execution_count": 4,
   "metadata": {},
   "outputs": [],
   "source": [
    "class EventHandler(AssistantEventHandler):    \n",
    "  @override\n",
    "  def on_text_created(self, text) -> None:\n",
    "    print(f\"\\nassistant > \", end=\"\", flush=True)\n",
    "      \n",
    "  @override\n",
    "  def on_text_delta(self, delta, snapshot):\n",
    "    print(delta.value, end=\"\", flush=True)\n",
    "      \n",
    "  def on_tool_call_created(self, tool_call):\n",
    "    print(f\"\\nassistant > {tool_call.type}\\n\", flush=True)\n",
    "  \n",
    "  def on_tool_call_delta(self, delta, snapshot):\n",
    "    if delta.type == 'code_interpreter':\n",
    "      if delta.code_interpreter.input:\n",
    "        print(delta.code_interpreter.input, end=\"\", flush=True)\n",
    "      if delta.code_interpreter.outputs:\n",
    "        print(f\"\\n\\noutput >\", flush=True)\n",
    "        for output in delta.code_interpreter.outputs:\n",
    "          if output.type == \"logs\":\n",
    "            print(f\"\\n{output.logs}\", flush=True)"
   ]
  },
  {
   "cell_type": "code",
   "execution_count": 5,
   "metadata": {},
   "outputs": [],
   "source": [
    "assistant = client.beta.assistants.retrieve(assistant_id='asst_j73v41e4e1pDzwN2ca513DA1')"
   ]
  },
  {
   "cell_type": "code",
   "execution_count": 6,
   "metadata": {},
   "outputs": [],
   "source": [
    "def create_thread():\n",
    "  thread = client.beta.threads.create()\n",
    "  return thread"
   ]
  },
  {
   "cell_type": "code",
   "execution_count": 11,
   "metadata": {},
   "outputs": [],
   "source": [
    "def add_message(thread, content):\n",
    "  message = client.beta.threads.messages.create(\n",
    "    thread_id=thread.id,\n",
    "    role='user',\n",
    "    content=content\n",
    "  )\n",
    "  \n",
    "  return message"
   ]
  },
  {
   "cell_type": "code",
   "execution_count": 15,
   "metadata": {},
   "outputs": [],
   "source": [
    "def get_answer(message, thread):\n",
    "  with client.beta.threads.runs.stream(\n",
    "    thread_id=thread.id,\n",
    "    assistant_id=assistant.id,\n",
    "    event_handler=EventHandler(),\n",
    "  ) as stream:\n",
    "    stream.until_done()\n",
    "    \n",
    "  final_run = stream.get_final_run()\n",
    "  status = final_run.status\n",
    "\n",
    "  if status == 'requires_action':\n",
    "\n",
    "    function_name = final_run.required_action.submit_tool_outputs.tool_calls[0].function.name\n",
    "    arguments = final_run.required_action.submit_tool_outputs.tool_calls[0].function.arguments\n",
    "    response = actions(function_name, json.loads(arguments))\n",
    "    print(f'assistant > {response}')\n",
    "  else:\n",
    "    print(f'assistant > {final_run}')"
   ]
  },
  {
   "cell_type": "code",
   "execution_count": 16,
   "metadata": {},
   "outputs": [
    {
     "name": "stdout",
     "output_type": "stream",
     "text": [
      "\n",
      "assistant > file_search\n",
      "\n",
      "\n",
      "assistant > Con los medicamentos vencidos se deben seguir ciertas pautas para su manejo adecuado. Según la Resolución No. 0371 del 26 de febrero de 2009, se establece que:\n",
      "\n",
      "1. **Devolución**: Los consumidores deben devolver los medicamentos vencidos a los mecanismos de devolución establecidos por el fabricante o importador. Esto incluye seguir las instrucciones de manejo seguro que se encuentran en la etiqueta del producto【4:1†source】.\n",
      "\n",
      "2. **Centros de Acopio**: Se deben establecer centros de acopio donde los consumidores puedan depositar los medicamentos vencidos. Estos centros deben cumplir con requisitos de seguridad y estar debidamente autorizados【4:13†source】.\n",
      "\n",
      "3. **Prohibiciones**: Está prohibido disponer de medicamentos vencidos en rellenos sanitarios, quemarlos, verterlos en cuerpos de agua o abandonarlos en espacios públicos. Solo se pueden manejar en instalaciones autorizadas para su tratamiento y disposición final【4:2†source】【4:13†source】.\n",
      "\n",
      "4. **Información y Sensibilización**: Es importante informar a los consumidores sobre los riesgos que representan los medicamentos vencidos y las recomendaciones para su manejo seguro【4:1†source】.\n",
      "\n",
      "En resumen, los medicamentos vencidos deben ser devueltos a los puntos de recolección establecidos, y no deben ser desechados de manera inadecuada para evitar riesgos a la salud y al medio ambiente.assistant > Run(id='run_9oge5rlqdEn8WTu7BPBGBxCv', assistant_id='asst_j73v41e4e1pDzwN2ca513DA1', cancelled_at=None, completed_at=1723532370, created_at=1723532356, expires_at=None, failed_at=None, incomplete_details=None, instructions='No hagas búsquedas en internet, limítate a obtener información de los documentos que te suministro.\\n\\nCualquier cosa que esté por fuera de los documentos suministrados responde con \"Ok\"\\n\\nSi se te pregunta algo relacionado con estadística descriptiva necesito que preguntes que medicamento desea buscar y que año.\\n', last_error=None, max_completion_tokens=None, max_prompt_tokens=None, metadata={}, model='gpt-4o-mini', object='thread.run', parallel_tool_calls=True, required_action=None, response_format='auto', started_at=1723532356, status='completed', thread_id='thread_rdi34AhwNRiYTWlSYM2fOurg', tool_choice='auto', tools=[FileSearchTool(type='file_search', file_search=None), FunctionTool(function=FunctionDefinition(name='get_medicine_availability', description='Get the quantity of medicines in stock', parameters={'type': 'object', 'properties': {'name': {'type': 'string', 'description': 'The medicine name'}}, 'required': ['name'], 'additionalProperties': False}, strict=None), type='function')], truncation_strategy=TruncationStrategy(type='auto', last_messages=None), usage=Usage(completion_tokens=320, prompt_tokens=15340, total_tokens=15660), temperature=0.2, top_p=1.0, tool_resources={'code_interpreter': {'file_ids': []}})\n",
      "\n",
      "assistant > function\n",
      "\n",
      "assistant > Hay las que quieras. solución salina\n"
     ]
    }
   ],
   "source": [
    "thread = create_thread()\n",
    "\n",
    "while True:\n",
    "  input_message = input('user > ')\n",
    "  \n",
    "  if 'exit' in input_message:\n",
    "    break\n",
    "  \n",
    "  message = add_message(thread, input_message)\n",
    "  get_answer(message, thread)"
   ]
  }
 ],
 "metadata": {
  "kernelspec": {
   "display_name": "chatbot",
   "language": "python",
   "name": "python3"
  },
  "language_info": {
   "codemirror_mode": {
    "name": "ipython",
    "version": 3
   },
   "file_extension": ".py",
   "mimetype": "text/x-python",
   "name": "python",
   "nbconvert_exporter": "python",
   "pygments_lexer": "ipython3",
   "version": "3.9.6"
  }
 },
 "nbformat": 4,
 "nbformat_minor": 2
}
